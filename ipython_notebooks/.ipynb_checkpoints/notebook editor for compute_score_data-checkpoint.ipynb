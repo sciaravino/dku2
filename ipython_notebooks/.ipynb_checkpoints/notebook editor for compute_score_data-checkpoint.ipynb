{
  "metadata": {
    "kernelspec": {
      "name": "py-dku-venv-sas",
      "display_name": "Python (env sas)",
      "language": "python"
    },
    "associatedRecipe": "compute_score_data",
    "creator": "admin",
    "createdOn": 1629081175758,
    "tags": [
      "recipe-editor"
    ],
    "customFields": {},
    "language_info": {
      "name": "python",
      "version": "3.6.8",
      "mimetype": "text/x-python",
      "codemirror_mode": {
        "name": "ipython",
        "version": 3
      },
      "pygments_lexer": "ipython3",
      "nbconvert_exporter": "python",
      "file_extension": ".py"
    },
    "modifiedBy": "admin"
  },
  "nbformat": 4,
  "nbformat_minor": 1,
  "cells": [
    {
      "execution_count": 0,
      "cell_type": "code",
      "metadata": {},
      "source": [
        "import dataiku\nfrom dataiku import pandasutils as pdu\nimport pandas as pd\nimport saspy"
      ],
      "outputs": []
    },
    {
      "execution_count": 0,
      "cell_type": "code",
      "metadata": {},
      "source": [
        "sas \u003d saspy.SASsession()"
      ],
      "outputs": []
    },
    {
      "execution_count": 0,
      "cell_type": "code",
      "metadata": {},
      "source": [
        "sas.assigned_librefs()"
      ],
      "outputs": []
    },
    {
      "execution_count": 0,
      "cell_type": "code",
      "metadata": {},
      "source": [
        "sas.datasets(\u0027CHURN\u0027)"
      ],
      "outputs": []
    },
    {
      "execution_count": 0,
      "cell_type": "code",
      "metadata": {},
      "source": [
        "outdf \u003d sas.sd2df(\u0027SCORE_DATA\u0027, \u0027CHURN\u0027)\noutdf.head(5)"
      ],
      "outputs": []
    },
    {
      "execution_count": 0,
      "cell_type": "code",
      "metadata": {},
      "source": [
        "# Write recipe outputs\nmodeling_table \u003d dataiku.Dataset(\"score_data\")\nmodeling_table.write_with_schema(outdf)"
      ],
      "outputs": []
    }
  ]
}