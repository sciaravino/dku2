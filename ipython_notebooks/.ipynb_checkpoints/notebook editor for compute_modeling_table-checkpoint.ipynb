{
  "nbformat": 4,
  "nbformat_minor": 0,
  "metadata": {
    "kernelspec": {
      "display_name": "Python (env python3)",
      "language": "python",
      "name": "py-dku-venv-python3"
    },
    "associatedRecipe": "compute_modeling_table",
    "dkuGit": {
      "lastInteraction": 0
    },
    "creationTag": {
      "versionNumber": 0,
      "lastModifiedBy": {
        "login": "Jordan"
      },
      "lastModifiedOn": 1635516765787
    },
    "creator": "Jordan",
    "createdOn": 1635516765787,
    "tags": [
      "recipe-editor"
    ],
    "customFields": {}
  },
  "cells": [
    {
      "cell_type": "code",
      "metadata": {},
      "outputs": [],
      "execution_count": 0,
      "source": [
        "# -*- coding: utf-8 -*-\n",
        "import dataiku\n",
        "import pulp\n",
        "import pandas as pd\n",
        "from dataiku import pandasutils as pdu\n",
        "\n",
        "# Read recipe inputs\n",
        "master_Table \u003d dataiku.Dataset(\"master_table_psql\")\n",
        "master_Table_df \u003d master_Table.get_dataframe()"
      ]
    },
    {
      "cell_type": "code",
      "metadata": {},
      "outputs": [],
      "execution_count": 0,
      "source": [
        "# Prep Steps\n",
        "master_Table_df.info()\n",
        "\n",
        "sample_df \u003d master_Table_df.sample(frac\u003d.1)\n",
        "sample_df.info()\n",
        "\n",
        "# Complaints\n",
        "sample_df.loc[sample_df[\u0027Recent_Complaint_flag\u0027].isnull(), \u0027Recent_Complaint_flag\u0027] \u003d 0\n",
        "print(\"Count total missing values for each column:\\n\", sample_df.isnull().sum().sum())\n",
        "\n",
        "# State\n",
        "sample_df[\"State\"] \u003d sample_df[\"State\"].str.title()\n",
        "\n",
        "# Account Plan\n",
        "sample_df[\"Plan_Full\"] \u003d sample_df[\"Acct_Plan_Type\"] + \"_\" + sample_df[\"Recent_Complaint\"]\n",
        "sample_df.info()"
      ]
    },
    {
      "cell_type": "code",
      "metadata": {},
      "outputs": [],
      "execution_count": 0,
      "source": [
        "# Pulp Test\n",
        "pulp.pulpTestAll()"
      ]
    },
    {
      "cell_type": "code",
      "metadata": {},
      "outputs": [],
      "execution_count": 0,
      "source": [
        "# Write recipe outputs\n",
        "modeling_table_df\u003dmaster_Table_df.dropna()\n",
        "modeling_table \u003d dataiku.Dataset(\"modeling_table\")\n",
        "modeling_table.write_with_schema(modeling_table_df)"
      ]
    }
  ]
}