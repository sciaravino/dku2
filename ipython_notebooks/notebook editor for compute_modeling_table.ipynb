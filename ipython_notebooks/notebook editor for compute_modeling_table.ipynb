{
  "metadata": {
    "kernelspec": {
      "name": "",
      "display_name": "Python 2",
      "language": "python"
    },
    "associatedRecipe": "compute_modeling_table",
    "dkuGit": {
      "lastInteraction": 0
    },
    "creationTag": {
      "versionNumber": 0,
      "lastModifiedBy": {
        "login": "Jordan"
      },
      "lastModifiedOn": 1635516765787
    },
    "creator": "Jordan",
    "createdOn": 1635516765787,
    "tags": [
      "recipe-editor"
    ],
    "customFields": {},
    "hide_input": false,
    "language_info": {
      "name": "python",
      "version": "3.7.9",
      "mimetype": "text/x-python",
      "codemirror_mode": {
        "name": "ipython",
        "version": 3
      },
      "pygments_lexer": "ipython3",
      "nbconvert_exporter": "python",
      "file_extension": ".py"
    },
    "modifiedBy": "Jordan"
  },
  "nbformat": 4,
  "nbformat_minor": 1,
  "cells": [
    {
      "execution_count": 0,
      "cell_type": "code",
      "metadata": {},
      "source": [
        "# -*- coding: utf-8 -*-\nimport dataiku\n\nimport pandas as pd\nfrom dataiku import pandasutils as pdu\n\n# Read recipe inputs\nmaster_Table \u003d dataiku.Dataset(\"master_table_psql\")\nmaster_Table_df \u003d master_Table.get_dataframe()"
      ],
      "outputs": []
    },
    {
      "execution_count": 0,
      "cell_type": "code",
      "metadata": {},
      "source": [
        "# Prep Steps\nmaster_Table_df.info()\n\nsample_df \u003d master_Table_df.sample(frac\u003d.1)\nsample_df.info()\n\n# Complaints\nsample_df.loc[sample_df[\u0027Recent_Complaint_flag\u0027].isnull(), \u0027Recent_Complaint_flag\u0027] \u003d 0\nprint(\"Count total missing values for each column:\\n\", sample_df.isnull().sum().sum())\n\n# State\nsample_df[\"State\"] \u003d sample_df[\"State\"].str.title()\n\n# Account Plan\nsample_df[\"Plan_Full\"] \u003d sample_df[\"Acct_Plan_Type\"] + \"_\" + sample_df[\"Recent_Complaint\"]\nsample_df.info()"
      ],
      "outputs": []
    },
    {
      "execution_count": 0,
      "cell_type": "code",
      "metadata": {},
      "source": [
        "import pulp\n# Pulp Test\npulp.pulpTestAll()"
      ],
      "outputs": []
    },
    {
      "execution_count": 0,
      "cell_type": "code",
      "metadata": {},
      "source": [
        "# Write recipe outputs\nmodeling_table_df\u003dmaster_Table_df.dropna()\nmodeling_table \u003d dataiku.Dataset(\"modeling_table\")\nmodeling_table.write_with_schema(modeling_table_df)"
      ],
      "outputs": []
    }
  ]
}