{
  "metadata": {
    "kernelspec": {
      "name": "",
      "display_name": "Python 2",
      "language": "python"
    },
    "associatedRecipe": "compute_score_data",
    "creator": "admin",
    "createdOn": 1629081175758,
    "tags": [
      "recipe-editor"
    ],
    "customFields": {},
    "language_info": {
      "name": "python",
      "version": "3.6.8",
      "mimetype": "text/x-python",
      "codemirror_mode": {
        "name": "ipython",
        "version": 3
      },
      "pygments_lexer": "ipython3",
      "nbconvert_exporter": "python",
      "file_extension": ".py"
    },
    "modifiedBy": "admin"
  },
  "nbformat": 4,
  "nbformat_minor": 1,
  "cells": [
    {
      "execution_count": 2,
      "cell_type": "code",
      "metadata": {},
      "source": [
        "import dataiku\nfrom dataiku import pandasutils as pdu\nimport pandas as pd\nimport saspy"
      ],
      "outputs": []
    },
    {
      "execution_count": 3,
      "cell_type": "code",
      "metadata": {},
      "source": [
        "# Creates a connection to remote SAS Server. Uses authinfo file to authenticate.\n# Modifications are made in /home/dataiku/dss/code-envs/python/sas/lib/python3.6/site-packages/saspy/sascfg_personal.py\nsas \u003d saspy.SASsession()"
      ],
      "outputs": [
        {
          "output_type": "stream",
          "text": "Using SAS Config named: iomwin\nSAS Connection established. Subprocess id is 6572\n\nNo encoding value provided. Will try to determine the correct encoding.\nSetting encoding to cp1252 based upon the SAS session encoding value of wlatin1.\n\n",
          "name": "stdout"
        }
      ]
    },
    {
      "execution_count": 4,
      "cell_type": "code",
      "metadata": {},
      "source": [
        "sas.assigned_librefs()"
      ],
      "outputs": [
        {
          "output_type": "execute_result",
          "execution_count": 4,
          "data": {
            "text/plain": "[\u0027WORK\u0027,\n \u0027SASDATA\u0027,\n \u0027CHURN\u0027,\n \u0027CLNTRL\u0027,\n \u0027ITVIYA\u0027,\n \u0027CALENDAR\u0027,\n \u0027PRESALES\u0027,\n \u0027TECHTEAM\u0027,\n \u0027MIDAS\u0027,\n \u0027ORION\u0027,\n \u0027STPSAMP\u0027,\n \u0027VALIB\u0027,\n \u0027SASHELP\u0027,\n \u0027MAPS\u0027,\n \u0027MAPSSAS\u0027,\n \u0027MAPSGFK\u0027,\n \u0027SASUSER\u0027]"
          },
          "metadata": {}
        }
      ]
    },
    {
      "execution_count": 0,
      "cell_type": "code",
      "metadata": {},
      "source": [
        "sas.datasets(\u0027CHURN\u0027)"
      ],
      "outputs": []
    },
    {
      "execution_count": 0,
      "cell_type": "code",
      "metadata": {},
      "source": [
        "outdf \u003d sas.sd2df(\u0027SCORE_DATA\u0027, \u0027CHURN\u0027)\noutdf.head(5)"
      ],
      "outputs": []
    },
    {
      "execution_count": 0,
      "cell_type": "code",
      "metadata": {},
      "source": [
        "# Write recipe outputs\nmodeling_table \u003d dataiku.Dataset(\"score_data\")\nmodeling_table.write_with_schema(outdf)"
      ],
      "outputs": []
    }
  ]
}